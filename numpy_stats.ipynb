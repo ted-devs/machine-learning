{
 "cells": [
  {
   "cell_type": "markdown",
   "metadata": {},
   "source": [
    "First we import the package. It is standard practice to nickname numpy as np."
   ]
  },
  {
   "cell_type": "code",
   "execution_count": 2,
   "metadata": {},
   "outputs": [],
   "source": [
    "import numpy as np"
   ]
  },
  {
   "cell_type": "markdown",
   "metadata": {},
   "source": [
    "We can use different statistical functions using numpy."
   ]
  },
  {
   "cell_type": "code",
   "execution_count": 3,
   "metadata": {},
   "outputs": [
    {
     "name": "stdout",
     "output_type": "stream",
     "text": [
      "mean: 23.0\n",
      "median:  22.0\n",
      "50th percentile:  22.0\n",
      "25th percentile:  18.0\n",
      "75th percentile:  29.0\n",
      "standard deviation:  6.342099196813483\n",
      "variance:  40.22222222222222\n"
     ]
    }
   ],
   "source": [
    "data = [15, 16, 18, 19, 22, 24, 29, 30, 34]\n",
    "\n",
    "print(\"mean:\", np.mean(data))\n",
    "print(\"median: \", np.median(data))\n",
    "print(\"50th percentile: \", np.percentile(data, 50))\n",
    "print(\"25th percentile: \", np.percentile(data, 25))\n",
    "print(\"75th percentile: \", np.percentile(data, 75))\n",
    "print(\"standard deviation: \", np.std(data))\n",
    "print(\"variance: \", np.var(data))"
   ]
  }
 ],
 "metadata": {
  "kernelspec": {
   "display_name": "Python 3.10.6 64-bit",
   "language": "python",
   "name": "python3"
  },
  "language_info": {
   "codemirror_mode": {
    "name": "ipython",
    "version": 3
   },
   "file_extension": ".py",
   "mimetype": "text/x-python",
   "name": "python",
   "nbconvert_exporter": "python",
   "pygments_lexer": "ipython3",
   "version": "3.10.6"
  },
  "orig_nbformat": 4,
  "vscode": {
   "interpreter": {
    "hash": "4d72d9fbc9e71b1f7166d22da2eae38f78598b42aad452c85300404d410a658f"
   }
  }
 },
 "nbformat": 4,
 "nbformat_minor": 2
}
